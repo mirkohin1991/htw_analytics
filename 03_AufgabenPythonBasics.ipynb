{
 "cells": [
  {
   "cell_type": "markdown",
   "metadata": {},
   "source": [
    "# Aufgabe 1: Duplikation von Listen\n",
    "Schreiben Sie eine Funktion, welche eine Liste l als Input bekommt und eine neue Liste\n",
    "zurückgibt, in welcher alle Elemente l aus genau einmal vorkommen."
   ]
  },
  {
   "cell_type": "code",
   "execution_count": null,
   "metadata": {},
   "outputs": [],
   "source": [
    "def remove_dublicates(inputList):\n",
    "    outputList = []\n",
    "    for m in inputList:\n",
    "        if m not in outputList:\n",
    "            outputList.append(m)\n",
    "    return outputList\n",
    "\n",
    "# Test 1: Strings\n",
    "strings_before = [\"gelb\", \"blau\", \"grün\", \"rot\", \"gelb\"]\n",
    "print(\"Aufgabe 1:\", \"String before\", strings_before)\n",
    "strings_after = remove_dublicates(strings_before)\n",
    "print(\"Aufgabe 1:\", \"String after\", strings_after)\n",
    "\n",
    "# Test 2: Mixed\n",
    "mixed_before = [\"gelb\", 2, \"grün\", \"rot\", \"gelb\", 1, 2, 3]\n",
    "print(\"Aufgabe 1:\", \"Mixed before\", mixed_before)\n",
    "mixed_after = remove_dublicates(mixed_before)\n",
    "print(\"Aufgabe 1:\", \"Mixed after\", mixed_after)"
   ]
  },
  {
   "cell_type": "markdown",
   "metadata": {},
   "source": [
    "# Aufgabe 2: Filtern von Listen\n",
    "Schreiben Sie eine Funktion, welche eine beliebige Liste l und eine Zahl n als Input\n",
    "bekommt und eine neue Liste zurückgibt, welche alle Zahlen aus l beinhaltet, welche\n",
    "kleiner sind als n."
   ]
  },
  {
   "cell_type": "code",
   "execution_count": null,
   "metadata": {},
   "outputs": [],
   "source": [
    "def remove_dublicates(inputList, value ):\n",
    "    outputlist = []\n",
    "    for m in inputList:\n",
    "        if m < value:\n",
    "            outputlist.append(m)\n",
    "    return outputlist\n",
    "\n",
    "\n",
    "list_before = [1, 2, 3, 4, 6, 7, 8]\n",
    "print(\"Aufgabe 2:\", \"List before\", list_before)\n",
    "list_after = remove_dublicates(list_before, 5)\n",
    "print(\"Aufgabe 2:\", \"List after\", list_after)\n"
   ]
  },
  {
   "cell_type": "markdown",
   "metadata": {},
   "source": [
    "# Aufgabe 3: Dictionaries\n",
    " Erstellen Sie ein Dictionary mit Nationalstaaten als Keys und ihren Hauptstädten als\n",
    " Values. Starten Sie mit ein paar Datensätzen. Schreiben Sie eine Funktion, welche als\n",
    " Input eine Variable bekommt und zurückgibt, ob in den Keys des erstellten\n",
    " Dictionaries vorkommt. Erweitern Sie die Funktion so, dass im Fall einer positiven\n",
    " Antwort, die zugehörige Hauptstadt zurückgegeben wird."
   ]
  },
  {
   "cell_type": "code",
   "execution_count": null,
   "metadata": {},
   "outputs": [],
   "source": [
    "def find_states(name):\n",
    "    states = {'Germany': 'Berlin', 'France': 'Paris'}\n",
    "\n",
    "    if name in states:\n",
    "        return f\"State {name} with capital {states[name]}\"\n",
    "\n",
    "print(\"Aufgabe 3: Eintrag gefunden:\", find_states(\"Germany\"))\n",
    "print(\"Aufgabe 3: Kein Eintrag gefunden:\",  find_states(\"England\"))"
   ]
  },
  {
   "cell_type": "markdown",
   "metadata": {},
   "source": [
    "# Aufgabe 4: Collect JSON from API\n",
    "Unter der URL https://xkcd.com/info.0.json (https://xkcd.com/info.0.json bekommt\n",
    "man metadaten vom aktuellsten XKCD Comic. Verwende die Library requests, um die\n",
    "Rückgabe der API als Python-Dictionary zu speichern. Schreiben Sie eine Funktion,\n",
    "welche den Titel (Value zum Key title) printet und das zugehörige Bild anzeigt.\n",
    "Hinweis: Importieren Sie sich die Klasse Imageaus dem Modul Ipython.display. Sie\n",
    "können dann mit dem Befehl display(Image(<iamge_url>)) das Bild dann\n",
    "anzeigen."
   ]
  },
  {
   "cell_type": "code",
   "execution_count": null,
   "metadata": {},
   "outputs": [],
   "source": [
    "import requests\n",
    "import IPython.display as disp\n",
    "\n",
    "result = {}\n",
    "result = requests.get(\"https://xkcd.com/info.0.json\").json()\n",
    "\n",
    "print(\"Aufgabe 4:\", \"Title\", result[\"title\"])\n",
    "\n",
    "disp.display(disp.Image(result[\"img\"]))"
   ]
  },
  {
   "cell_type": "markdown",
   "metadata": {},
   "source": [
    "# Aufgabe 5: Zufällige Auswahl\n",
    "Erweitern Sie die obige Aufgabe, indem Sie eine Funktion schreiben, die Daten zu einem\n",
    "'zufällig' ausgewählten XKCD Comis einsammelt. Die API-Dokumentation finden Sie\n",
    "unter https://xkcd.com/json.html (https://xkcd.com/json.html).\n"
   ]
  },
  {
   "cell_type": "code",
   "execution_count": null,
   "metadata": {},
   "outputs": [],
   "source": [
    "from random import randint\n",
    "\n",
    "random = randint(1, 600)\n",
    "\n",
    "result = {}\n",
    "result = requests.get(\"https://xkcd.com/\" + str(random) + \"/info.0.json\").json()\n",
    "\n",
    "print(\"Aufgabe 5:\", \"Randomly Selected comic\", result)"
   ]
  },
  {
   "cell_type": "markdown",
   "metadata": {},
   "source": [
    "# Aufgabe 6: Datenpool aufbauen\n",
    "Sammeln Sie mehrere Datensätze von der XKCD API ein und speichern Sie diese in\n",
    "einem passenden Format."
   ]
  },
  {
   "cell_type": "code",
   "execution_count": null,
   "metadata": {},
   "outputs": [],
   "source": [
    "resultDic = {}\n",
    "resultList = []\n",
    "random = randint(1, 600)\n",
    "resultDic = requests.get(\"https://xkcd.com/1/info.0.json\").json()\n",
    "resultList.append(resultDic)\n",
    "random = randint(1, 600)\n",
    "resultDic = requests.get(\"https://xkcd.com/2/info.0.json\").json()\n",
    "resultList.append(resultDic)\n",
    "\n",
    "print(\"Aufgabe 6:\", \"Liste von mehreren Comics:\", resultList[0])\n",
    "print(\"Aufgabe 6:\", \"Liste von mehreren Comics:\", resultList[1])\n"
   ]
  },
  {
   "cell_type": "markdown",
   "metadata": {},
   "source": [
    "# Aufgabe 7: Comic-Suche\n",
    "Schreiben Sie eine Funktion, die einen String als Input bekommt, und den dazu\n",
    "passendsten Comic aus Ihrem Datenpool zurückgibt."
   ]
  },
  {
   "cell_type": "code",
   "execution_count": null,
   "metadata": {},
   "outputs": [],
   "source": [
    "keyword = 'boy'\n",
    "\n",
    "\n",
    "def get_fitting_comic(comic_list, keyword):\n",
    "        ranking = []\n",
    "\n",
    "        for m in comic_list:\n",
    "            count = m[\"transcript\"].count(keyword)\n",
    "            # if keyword in m[\"transcript\"]:\n",
    "            ranking.append(count, m )\n",
    "            print(count)\n",
    "\n",
    "        return comic_list\n"
   ]
  }
 ],
 "metadata": {
  "kernelspec": {
   "display_name": "Python 3",
   "language": "python",
   "name": "python3"
  },
  "language_info": {
   "codemirror_mode": {
    "name": "ipython",
    "version": 3
   },
   "file_extension": ".py",
   "mimetype": "text/x-python",
   "name": "python",
   "nbconvert_exporter": "python",
   "pygments_lexer": "ipython3",
   "version": "3.7.0"
  }
 },
 "nbformat": 4,
 "nbformat_minor": 2
}
